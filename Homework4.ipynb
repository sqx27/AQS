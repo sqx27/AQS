{
  "nbformat": 4,
  "nbformat_minor": 0,
  "metadata": {
    "kernelspec": {
      "display_name": "Python 3",
      "language": "python",
      "name": "python3"
    },
    "language_info": {
      "codemirror_mode": {
        "name": "ipython",
        "version": 3
      },
      "file_extension": ".py",
      "mimetype": "text/x-python",
      "name": "python",
      "nbconvert_exporter": "python",
      "pygments_lexer": "ipython3",
      "version": "3.7.6"
    },
    "colab": {
      "name": "Homework4.ipynb",
      "provenance": [],
      "include_colab_link": true
    }
  },
  "cells": [
    {
      "cell_type": "markdown",
      "metadata": {
        "id": "view-in-github",
        "colab_type": "text"
      },
      "source": [
        "<a href=\"https://colab.research.google.com/github/sqx27/AQS/blob/main/Homework4.ipynb\" target=\"_parent\"><img src=\"https://colab.research.google.com/assets/colab-badge.svg\" alt=\"Open In Colab\"/></a>"
      ]
    },
    {
      "cell_type": "markdown",
      "metadata": {
        "id": "rsEop3c0QBVB"
      },
      "source": [
        "# FM 5001\n",
        "\n",
        "## Home Work 4\n",
        "\n",
        "Due Friday, October 9"
      ]
    },
    {
      "cell_type": "markdown",
      "metadata": {
        "id": "w_SSfDloQBVC"
      },
      "source": [
        "For each of the probability problems, solve them two ways:\n",
        "\n",
        "1. By using sets and probabilty rules.\n",
        "2. By running simululation.\n",
        "\n",
        "It is sometimes the case that method 1 is quite difficut, but a suitable simulation can still be generated.  So you should still submit a simulation even if you cannot determine the \"theoretical\" answer.\n",
        "\n",
        "\n",
        "\n",
        "\n"
      ]
    },
    {
      "cell_type": "markdown",
      "metadata": {
        "id": "-7gnhMqsQBVD"
      },
      "source": [
        "1. Instead of six-sided dice, a game involves tossing two different dice. Die A is a tetrahedron (4 sided) and die B is Octahedron (8 sided).  The sides of die A are numbered 1-4 and the sides of die B are numbered 1-8. Let $X =$ the sum of he number shown on the two dice.  Determine\n",
        "\n",
        "    a. $p(X=2)$\n",
        "\n",
        "    b  $p(X>9)$\n",
        "\n",
        "    c. $E[X]$\n",
        "\n",
        "\n",
        "\n",
        "    \n",
        "    "
      ]
    },
    {
      "cell_type": "markdown",
      "metadata": {
        "id": "nLnDStahQBVD"
      },
      "source": [
        "2. Two cards is drawn from a deck.  Points are scored as follows:\n",
        "    * 1 point per club\n",
        "    * 5 points per spade\n",
        "    * -1 point per red cards  \n",
        "       \n",
        "   a. What is the expected number of clubs?\n",
        "   \n",
        "   b. What is the probabilty of a score of 10?\n",
        "   \n",
        "   c. What is the probability of a score of 4?\n",
        "   \n",
        "   d. What is the expected number of points scored?\n",
        "    \n",
        "    \n",
        "    "
      ]
    },
    {
      "cell_type": "markdown",
      "metadata": {
        "id": "DykTBqfEQBVE"
      },
      "source": [
        "3.  There are two bins with balls.  Bin one contain 15 red balls and 5 black balls.  Bin two contain 1 red balls and 19 black balls.   2 balls are drawn from each bin without replacment.\n",
        "\n",
        "    A game scores 1 points per red balls, 2 points per black ball.\n",
        "    \n",
        "    a.  What is probability that no balls are red?\n",
        "    \n",
        "    b.  What is probabilty that the score is 4?\n",
        "    \n",
        "    c.  What are all the scores possible?\n",
        "    \n",
        "    d.  What is the expected score?\n",
        "    \n",
        "    e.  (Extra Credit) What is the expected score given that no balls are red?\n",
        "    \n",
        " \n",
        "    \n",
        "    \n",
        "   \n"
      ]
    },
    {
      "cell_type": "markdown",
      "metadata": {
        "id": "hi99j2JAQBVE"
      },
      "source": [
        ""
      ]
    }
  ]
}