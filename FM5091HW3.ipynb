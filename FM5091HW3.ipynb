{
  "nbformat": 4,
  "nbformat_minor": 0,
  "metadata": {
    "colab": {
      "name": "FM5091HW2.ipynb",
      "provenance": [],
      "authorship_tag": "ABX9TyNG2IyqHk8Qli5ALZBTXoky",
      "include_colab_link": true
    },
    "kernelspec": {
      "name": "python3",
      "display_name": "Python 3"
    }
  },
  "cells": [
    {
      "cell_type": "markdown",
      "metadata": {
        "id": "view-in-github",
        "colab_type": "text"
      },
      "source": [
        "<a href=\"https://colab.research.google.com/github/sqx27/AQS/blob/main/FM5091HW3.ipynb\" target=\"_parent\"><img src=\"https://colab.research.google.com/assets/colab-badge.svg\" alt=\"Open In Colab\"/></a>"
      ]
    },
    {
      "cell_type": "code",
      "metadata": {
        "id": "BrG8CTg_PYNj",
        "outputId": "aa5287f7-9ccb-4882-c0b8-c8aff4b3a959",
        "colab": {
          "base_uri": "https://localhost:8080/"
        }
      },
      "source": [
        "#Alex Song FM5091 HW3\n",
        "import numpy as np\n",
        "from scipy.stats import norm\n",
        "#create 2 implied volatlity calculators using Python\n",
        "\n",
        "#calculate option price at estimate sigma\n",
        "def option_value(S,K,r,t,sigma):\n",
        "  d1 = (np.log(S/K)+(r+0.5*sigma**2)*t)/(sigma*np.sqrt(t))\n",
        "  d2 = (np.log(S/K)+(r-0.5*sigma**2)*t)/(sigma*np.sqrt(t))\n",
        "  call = (S * norm.cdf(d1,0,1) - K*np.exp(-r*t) * norm.cdf(d2,0,1))\n",
        "  put = (K*np.exp(-r*t) * norm.cdf(-d2,0,1) - S * norm.cdf(-d1,0,1))\n",
        "  return call,put\n",
        "\n",
        "#calculate vega using given parameter\n",
        "def vega(S,K,r,t,sigma):\n",
        "  d1 = (np.log(S/K)+(r+0.5*sigma**2)*t)/(sigma*np.sqrt(t))\n",
        "  vega = S * norm.cdf(d1,0,1) * np.sqrt(t)\n",
        "  return vega\n",
        "\n",
        "\n",
        "#apply Newton's Method\n",
        "def Newton(S,K,t,r,op,type): #type=0,call;type=1, put\n",
        "  size = 10000\n",
        "  est_sigma = .2\n",
        "  for i in range(size):\n",
        "    est_sigma -= (option_value(S,K,r,t,est_sigma)[type] - op) / vega(S,K,r,t,est_sigma)\n",
        "\n",
        "  return est_sigma\n",
        "\n",
        "print('Implied voltality for call option is ',Newton(100,100,1,0.05,5,0),\n",
        "      '\\nImplied voltality for put option is ',Newton(100,100,1,0.05,5,1))"
      ],
      "execution_count": 88,
      "outputs": [
        {
          "output_type": "stream",
          "text": [
            "Implied voltality for call option is  0.035384777344651334 \n",
            "Implied voltality for put option is  0.1846818322014981\n"
          ],
          "name": "stdout"
        }
      ]
    },
    {
      "cell_type": "code",
      "metadata": {
        "id": "1p-WzWXSUvc6",
        "outputId": "a8564e47-a03c-426d-8e61-c875f89209e2",
        "colab": {
          "base_uri": "https://localhost:8080/"
        }
      },
      "source": [
        "#2 Using Bisection Method\n",
        "\n",
        "def Bis(S,K,t,r,op,type): #type=0,call ;type=1,put\n",
        "  est_op = 0\n",
        "  upper = 100\n",
        "  lower = 0\n",
        "  est_sigma = (upper + lower)/2\n",
        "\n",
        "  while abs(op - est_op) > 0.0001:\n",
        "    est_op = option_value(S,K,r,t,est_sigma)[type]\n",
        "    if op - est_op> 0:\n",
        "      lower = est_sigma\n",
        "      est_sigma = (est_sigma + upper)/2\n",
        "    else:\n",
        "      upper = est_sigma\n",
        "      est_sigma = (est_sigma + lower)/2\n",
        "\n",
        "  return est_sigma\n",
        "\n",
        "print('Implied voltality for call option is ',Bis(100,100,1,0.05,5,0),\n",
        "      '\\nImplied voltality for put option is ',Bis(100,100,1,0.05,5,1))"
      ],
      "execution_count": 87,
      "outputs": [
        {
          "output_type": "stream",
          "text": [
            "Implied voltality for call option is  0.03542900085449219 \n",
            "Implied voltality for put option is  0.1846805214881897\n"
          ],
          "name": "stdout"
        }
      ]
    }
  ]
}