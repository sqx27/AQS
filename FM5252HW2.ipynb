{
  "nbformat": 4,
  "nbformat_minor": 0,
  "metadata": {
    "colab": {
      "name": "FM 5252 HW#2",
      "provenance": [],
      "collapsed_sections": [],
      "authorship_tag": "ABX9TyNLf/kRzBJGCaYmFpou8Yh4",
      "include_colab_link": true
    },
    "kernelspec": {
      "name": "python3",
      "display_name": "Python 3"
    },
    "language_info": {
      "name": "python"
    }
  },
  "cells": [
    {
      "cell_type": "markdown",
      "metadata": {
        "id": "view-in-github",
        "colab_type": "text"
      },
      "source": [
        "<a href=\"https://colab.research.google.com/github/sqx27/AQS/blob/main/FM5252HW2.ipynb\" target=\"_parent\"><img src=\"https://colab.research.google.com/assets/colab-badge.svg\" alt=\"Open In Colab\"/></a>"
      ]
    },
    {
      "cell_type": "code",
      "source": [
        "#Alex Song FM5252 HW2\n",
        "\n",
        "\n",
        "#S, the spot price of the asset at time t\n",
        "#K, strike price of the option\n",
        "#T, the maturity of the option. Time to maturity is defined as T−t\n",
        "#N, the height of the binomial tree\n",
        "#r, the risk-free interest rate, assumed to be constant between t and T\n",
        "#q, the dividend yeild\n",
        "#σ, volatility of underlying asset, the standard deviation of the asset returns\n",
        "\n",
        "#calculate European Option prices using binomial tree\n",
        "import numpy as np\n",
        "\n",
        "S = 100\n",
        "K = 100\n",
        "T = 1\n",
        "N = 3\n",
        "r = 0.06\n",
        "q = 0\n",
        "sigma = 0.2\n",
        "#check the difference between European and American option approach, put option is more obvious\n",
        "option_type = 'put' \n",
        "\n",
        "def European_binomial_tree(S,K,T,N,r,q,sigma,option_type):\n",
        "  t = T/N\n",
        "  u = np.exp(sigma*np.sqrt(t))\n",
        "  d = 1/u\n",
        "  p = (np.exp((r-q)*t)-d)/(u-d)\n",
        "  discount = np.exp(-r*t)\n",
        "\n",
        "  #create a matrix with size (N+1)*(N+1) to place all the price values. (0,0) position is the original price\n",
        "  ptree = np.zeros([N+1,N+1])\n",
        "  #place all the values inside the matrix\n",
        "  for i in range(N+1):\n",
        "    for j in range(i+1):\n",
        "      ptree[j,i] = S*(d**j)*(u**(i-j))\n",
        "  #print(ptree)\n",
        "\n",
        "  #create a second matrix to include all the value of options\n",
        "  ovtree = np.zeros([N+1,N+1])\n",
        "  #calculate the value of options at each point in the lattice\n",
        "  if option_type == 'call':\n",
        "    ovtree[:,N] = np.maximum(np.zeros(N+1), ptree[:,N]-K)\n",
        "  else:\n",
        "    ovtree[:,N] = np.maximum(np.zeros(N+1), K-ptree[:,N]) \n",
        "\n",
        "  #calculate the value back until we reach [0,0]\n",
        "  for i in np.arange(N-1,-1,-1):\n",
        "    for j in np.arange(0,i+1):\n",
        "      ovtree[j,i] = discount * (p*ovtree[j,i+1] + (1-p)*ovtree[j+1,i+1])\n",
        "  #print(ovtree)\n",
        "  delta = (ovtree[0,1]-ovtree[1,1])/(ptree[0,1]-ptree[1,1])\n",
        "  gamma = ((ovtree[0,2]-ovtree[1,2])/(ptree[0,2]-ptree[1,2])-(ovtree[1,2]-ovtree[2,2])/(ptree[1,2]-ptree[2,2]))/(0.5*(ptree[0,2]-ptree[2,2]))\n",
        "\n",
        "  return ovtree[0,0],delta,gamma;\n",
        "\n",
        "option_price = European_binomial_tree(S,K,T,N,r,q,sigma,option_type)[0]\n",
        "delta = European_binomial_tree(S,K,T,N,r,q,sigma,option_type)[1]\n",
        "gamma = European_binomial_tree(S,K,T,N,r,q,sigma,option_type)[2]\n",
        "dsigma = 0.0001\n",
        "vega = (European_binomial_tree(S,K,T,N,r,q,sigma+dsigma,option_type)[0]-European_binomial_tree(S,K,T,N,r,q,sigma-dsigma,option_type)[0])/(2*dsigma)\n",
        "dr = 0.0001\n",
        "rho = (European_binomial_tree(S,K,T,N,r+dr,q,sigma,option_type)[0]-European_binomial_tree(S,K,T,N,r-dr,q,sigma,option_type)[0])/(2*dr)\n",
        "dT = 0.0001\n",
        "theta = -(European_binomial_tree(S,K,T+dT,N,r,q,sigma,option_type)[0]-European_binomial_tree(S,K,T-dT,N,r,q,sigma,option_type)[0])/(2*dT)\n",
        "\n",
        "\n",
        "print('The price of an European ', option_type, ' option is ', option_price, '\\nThe Delta value is ', delta, '\\nThe Gamma value is ',gamma, \n",
        "      '\\nThe Vega value is ',vega, '\\nThe Rho value is ',rho, '\\nThe Theta value is ',theta)"
      ],
      "metadata": {
        "colab": {
          "base_uri": "https://localhost:8080/"
        },
        "id": "3DtlnolTxt1R",
        "outputId": "9340be44-d8f5-4c7b-97c9-e021ec6ec958"
      },
      "execution_count": null,
      "outputs": [
        {
          "output_type": "stream",
          "name": "stdout",
          "text": [
            "The price of an European  put  option is  5.728426535389136 \n",
            "The Delta value is  -0.37194935661830325 \n",
            "The Gamma value is  0.021176247761510354 \n",
            "The Vega value is  40.493566000092684 \n",
            "The Rho value is  -42.92336261666918 \n",
            "The Theta value is  -1.473954907429409\n"
          ]
        }
      ]
    },
    {
      "cell_type": "code",
      "execution_count": null,
      "metadata": {
        "colab": {
          "base_uri": "https://localhost:8080/"
        },
        "id": "dnaacPNqxmFj",
        "outputId": "7fc6b093-33a3-436a-da8e-e555314c5e4f"
      },
      "outputs": [
        {
          "output_type": "stream",
          "name": "stdout",
          "text": [
            "The price of an American  put  option is  6.099357008892412 \n",
            "The Delta value is  -0.4089772809232681 \n",
            "The Gamma value is  0.02529746343125649 \n",
            "The Vega value is  41.47172026729873 \n",
            "The Rho value is  -39.518618048406395 \n",
            "The Theta value is  -1.7760549375989143\n"
          ]
        }
      ],
      "source": [
        "#calculate American Option prices using binomial tree\n",
        "S = 100\n",
        "K = 100\n",
        "T = 1\n",
        "N = 3\n",
        "r = 0.06\n",
        "q = 0\n",
        "sigma = 0.2\n",
        "#check the difference between European and American option approach, put option is more obvious\n",
        "option_type = 'put'\n",
        "\n",
        "def American_binomial_tree(S,K,T,N,r,q,sigma,option_type):\n",
        "  t = T/N\n",
        "  u = np.exp(sigma*np.sqrt(t))\n",
        "  d = 1/u\n",
        "  p = (np.exp((r-q)*t)-d)/(u-d)\n",
        "  discount = np.exp(-r*t)\n",
        "\n",
        "  #create a matrix with size (N+1)*(N+1) to place all the price values. (0,0) position is the original price\n",
        "  ptree = np.zeros([N+1,N+1])\n",
        "  #place all the values inside the matrix\n",
        "  for i in range(N+1):\n",
        "    for j in range(i+1):\n",
        "      ptree[j,i] = S*(d**j)*(u**(i-j))\n",
        "  #print(ptree)\n",
        "\n",
        "  #create a second matrix to include all the value of options\n",
        "  ovtree = np.zeros([N+1,N+1])\n",
        "  #calculate the value of options at each point in the lattice, and calculate the value back until we reach [0,0]\n",
        "  if option_type == 'call':\n",
        "    ovtree[:,N] = np.maximum(np.zeros(N+1), ptree[:,N]-K)\n",
        "    for i in np.arange(N-1,-1,-1):\n",
        "      for j in np.arange(0,i+1):\n",
        "        ovtree[j,i] = np.maximum(discount * (p*ovtree[j,i+1] + (1-p)*ovtree[j+1,i+1]), ptree[j,i]-K)\n",
        "  else:\n",
        "    ovtree[:,N] = np.maximum(np.zeros(N+1), K-ptree[:,N]) \n",
        "    for i in np.arange(N-1,-1,-1):\n",
        "      for j in np.arange(0,i+1):\n",
        "        ovtree[j,i] = np.maximum(discount * (p*ovtree[j,i+1] + (1-p)*ovtree[j+1,i+1]), K-ptree[j,i])\n",
        "  #print(ovtree)\n",
        "  delta = (ovtree[0,1]-ovtree[1,1])/(ptree[0,1]-ptree[1,1])\n",
        "  gamma = ((ovtree[0,2]-ovtree[1,2])/(ptree[0,2]-ptree[1,2])-(ovtree[1,2]-ovtree[2,2])/(ptree[1,2]-ptree[2,2]))/(0.5*(ptree[0,2]-ptree[2,2]))\n",
        "\n",
        "  return ovtree[0,0],delta,gamma;\n",
        "\n",
        "option_price = American_binomial_tree(S,K,T,N,r,q,sigma,option_type)[0]\n",
        "delta = American_binomial_tree(S,K,T,N,r,q,sigma,option_type)[1]\n",
        "gamma = American_binomial_tree(S,K,T,N,r,q,sigma,option_type)[2]\n",
        "dsigma = 0.0001\n",
        "vega = (American_binomial_tree(S,K,T,N,r,q,sigma+dsigma,option_type)[0]-American_binomial_tree(S,K,T,N,r,q,sigma-dsigma,option_type)[0])/(2*dsigma)\n",
        "dr = 0.0001\n",
        "rho = (American_binomial_tree(S,K,T,N,r+dr,q,sigma,option_type)[0]-American_binomial_tree(S,K,T,N,r-dr,q,sigma,option_type)[0])/(2*dr)\n",
        "dT = 0.0001\n",
        "theta = -(American_binomial_tree(S,K,T+dT,N,r,q,sigma,option_type)[0]-American_binomial_tree(S,K,T-dT,N,r,q,sigma,option_type)[0])/(2*dT)\n",
        "\n",
        "\n",
        "print('The price of an American ', option_type, ' option is ', option_price, '\\nThe Delta value is ', delta, '\\nThe Gamma value is ',gamma, \n",
        "      '\\nThe Vega value is ',vega, '\\nThe Rho value is ',rho, '\\nThe Theta value is ',theta)"
      ]
    }
  ]
}