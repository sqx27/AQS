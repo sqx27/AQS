{
  "nbformat": 4,
  "nbformat_minor": 0,
  "metadata": {
    "colab": {
      "name": "FM5091HW2",
      "provenance": [],
      "authorship_tag": "ABX9TyPKEBvK2/xZLb37xyhfFGcr",
      "include_colab_link": true
    },
    "kernelspec": {
      "name": "python3",
      "display_name": "Python 3"
    }
  },
  "cells": [
    {
      "cell_type": "markdown",
      "metadata": {
        "id": "view-in-github",
        "colab_type": "text"
      },
      "source": [
        "<a href=\"https://colab.research.google.com/github/sqx27/AQS/blob/main/FM5091HW2.ipynb\" target=\"_parent\"><img src=\"https://colab.research.google.com/assets/colab-badge.svg\" alt=\"Open In Colab\"/></a>"
      ]
    },
    {
      "cell_type": "code",
      "metadata": {
        "id": "bFUM35k1TENv",
        "outputId": "81572e4d-1840-4651-cc89-b9a25164dafc",
        "colab": {
          "base_uri": "https://localhost:8080/",
          "height": 174
        }
      },
      "source": [
        "#Alex Song FM5091 HW2\n",
        "\n",
        "\n",
        "#S, the spot price of the asset at time t\n",
        "#K, strike price of the option\n",
        "#T, the maturity of the option. Time to maturity is defined as T−t\n",
        "#N, the height of the binomial tree\n",
        "#r, the risk-free interest rate, assumed to be constant between t and T\n",
        "#q, the dividend yeild\n",
        "#σ, volatility of underlying asset, the standard deviation of the asset returns\n",
        "\n",
        "#calculate European Option prices using binomial tree\n",
        "import numpy as np\n",
        "import math\n",
        "\n",
        "S = 100\n",
        "K = 100\n",
        "T = 1\n",
        "N = 3\n",
        "r = 0.06\n",
        "q = 0\n",
        "sigma = 0.2\n",
        "#check the difference between European and American option approach, put option is more obvious\n",
        "option_type = 'put' \n",
        "\n",
        "def European_binomial_tree(S,K,T,N,r,q,sigma,option_type):\n",
        "  t = T/N\n",
        "  u = math.exp(sigma*math.sqrt(t))\n",
        "  d = 1/u\n",
        "  p = (math.exp((r-q)*t)-d)/(u-d)\n",
        "  discount = math.exp(-r*t)\n",
        "\n",
        "  #create a matrix with size (N+1)*(N+1) to place all the price values. (0,0) position is the original price\n",
        "  ptree = np.zeros([N+1,N+1])\n",
        "  #place all the values inside the matrix\n",
        "  for i in range(N+1):\n",
        "    for j in range(i+1):\n",
        "      ptree[j,i] = S*(d**j)*(u**(i-j))\n",
        "  print(ptree)\n",
        "\n",
        "  #create a second matrix to include all the value of options\n",
        "  ovtree = np.zeros([N+1,N+1])\n",
        "  #calculate the value of options at each point in the lattice\n",
        "  if option_type == 'call':\n",
        "    ovtree[:,N] = np.maximum(np.zeros(N+1), ptree[:,N]-K)\n",
        "  else:\n",
        "    ovtree[:,N] = np.maximum(np.zeros(N+1), K-ptree[:,N]) \n",
        "\n",
        "  #calculate the value back until we reach [0,0]\n",
        "  for i in np.arange(N-1,-1,-1):\n",
        "    for j in np.arange(0,i+1):\n",
        "      ovtree[j,i] = discount * (p*ovtree[j,i+1] + (1-p)*ovtree[j+1,i+1])\n",
        "  print(ovtree)\n",
        "  delta = (ovtree[0,1]-ovtree[1,1])/(ptree[0,1]-ptree[1,1])\n",
        "  #gamma = ((ovtree[0,2]-ovtree[1,2])/(ptree[0,2]-ptree[1,2])-(ovtree[1,2]-ovtree[2,2])/(ptree[1,2]-ptree[2,2])/(0.5*(ptree[0,2]-ptree[2,2]))\n",
        "\n",
        "  return ovtree[0,0],delta;\n",
        "\n",
        "print(European_binomial_tree(S,K,T,N,r,q,sigma,option_type))"
      ],
      "execution_count": 41,
      "outputs": [
        {
          "output_type": "stream",
          "text": [
            "[[100.         112.24009024 125.97837858 141.39824581]\n",
            " [  0.          89.09472523 100.         112.24009024]\n",
            " [  0.           0.          79.37870064  89.09472523]\n",
            " [  0.           0.           0.          70.72223522]]\n",
            "[[ 5.72842654  2.04284228  0.          0.        ]\n",
            " [ 0.         10.65174591  4.71993182  0.        ]\n",
            " [ 0.          0.         18.64116669 10.90527477]\n",
            " [ 0.          0.          0.         29.27776478]]\n",
            "(5.728426535389136, -0.37194935661830325)\n"
          ],
          "name": "stdout"
        }
      ]
    },
    {
      "cell_type": "code",
      "metadata": {
        "id": "Z2dk-mZwItCB",
        "outputId": "1df01336-b676-4090-f74c-a596c5665e65",
        "colab": {
          "base_uri": "https://localhost:8080/",
          "height": 174
        }
      },
      "source": [
        "#calculate American Option prices using binomial tree\n",
        "S = 100\n",
        "K = 100\n",
        "T = 1\n",
        "N = 3\n",
        "r = 0.06\n",
        "q = 0\n",
        "sigma = 0.2\n",
        "#check the difference between European and American option approach, put option is more obvious\n",
        "option_type = 'put'\n",
        "\n",
        "def American_binomial_tree(S,K,T,N,r,q,sigma,option_type):\n",
        "  t = T/N\n",
        "  u = math.exp(sigma*math.sqrt(t))\n",
        "  d = 1/u\n",
        "  p = (math.exp((r-q)*t)-d)/(u-d)\n",
        "  discount = math.exp(-r*t)\n",
        "\n",
        "  #create a matrix with size (N+1)*(N+1) to place all the price values. (0,0) position is the original price\n",
        "  ptree = np.zeros([N+1,N+1])\n",
        "  #place all the values inside the matrix\n",
        "  for i in range(N+1):\n",
        "    for j in range(i+1):\n",
        "      ptree[j,i] = S*(d**j)*(u**(i-j))\n",
        "  print(ptree)\n",
        "\n",
        "  #create a second matrix to include all the value of options\n",
        "  ovtree = np.zeros([N+1,N+1])\n",
        "  #calculate the value of options at each point in the lattice, and calculate the value back until we reach [0,0]\n",
        "  if option_type == 'call':\n",
        "    ovtree[:,N] = np.maximum(np.zeros(N+1), ptree[:,N]-K)\n",
        "    for i in np.arange(N-1,-1,-1):\n",
        "      for j in np.arange(0,i+1):\n",
        "        ovtree[j,i] = np.maximum(discount * (p*ovtree[j,i+1] + (1-p)*ovtree[j+1,i+1]), ptree[j,i]-K)\n",
        "  else:\n",
        "    ovtree[:,N] = np.maximum(np.zeros(N+1), K-ptree[:,N]) \n",
        "    for i in np.arange(N-1,-1,-1):\n",
        "      for j in np.arange(0,i+1):\n",
        "        ovtree[j,i] = np.maximum(discount * (p*ovtree[j,i+1] + (1-p)*ovtree[j+1,i+1]), K-ptree[j,i])\n",
        "  print(ovtree)\n",
        "  delta = (ovtree[0,1]-ovtree[1,1])/(ptree[0,1]-ptree[1,1])\n",
        "\n",
        "\n",
        "  return ovtree[0,0], delta; \n",
        "print(American_binomial_tree(S,K,T,N,r,q,sigma,option_type))"
      ],
      "execution_count": 39,
      "outputs": [
        {
          "output_type": "stream",
          "text": [
            "[[100.         112.24009024 125.97837858 141.39824581]\n",
            " [  0.          89.09472523 100.         112.24009024]\n",
            " [  0.           0.          79.37870064  89.09472523]\n",
            " [  0.           0.           0.          70.72223522]]\n",
            "[[ 6.09935701  2.04284228  0.          0.        ]\n",
            " [ 0.         11.50877073  4.71993182  0.        ]\n",
            " [ 0.          0.         20.62129936 10.90527477]\n",
            " [ 0.          0.          0.         29.27776478]]\n",
            "(6.099357008892412, -0.4089772809232681)\n"
          ],
          "name": "stdout"
        }
      ]
    }
  ]
}