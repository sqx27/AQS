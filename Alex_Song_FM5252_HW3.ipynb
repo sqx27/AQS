{
  "nbformat": 4,
  "nbformat_minor": 0,
  "metadata": {
    "colab": {
      "name": "Alex Song FM5252 HW3",
      "provenance": [],
      "authorship_tag": "ABX9TyPUKWncOQ1Pc9AOZ1F7aryx",
      "include_colab_link": true
    },
    "kernelspec": {
      "name": "python3",
      "display_name": "Python 3"
    },
    "language_info": {
      "name": "python"
    }
  },
  "cells": [
    {
      "cell_type": "markdown",
      "metadata": {
        "id": "view-in-github",
        "colab_type": "text"
      },
      "source": [
        "<a href=\"https://colab.research.google.com/github/sqx27/AQS/blob/main/Alex_Song_FM5252_HW3.ipynb\" target=\"_parent\"><img src=\"https://colab.research.google.com/assets/colab-badge.svg\" alt=\"Open In Colab\"/></a>"
      ]
    },
    {
      "cell_type": "code",
      "execution_count": 3,
      "metadata": {
        "id": "aiJDn2fqnw53"
      },
      "outputs": [],
      "source": [
        "#Alex Song FM5252 HW3\n",
        "import numpy as np\n",
        "from scipy.stats import norm\n",
        "import matplotlib.pyplot as plt\n",
        "import scipy\n",
        "\n",
        "#create 2 implied volatlity finder using different method\n",
        "\n",
        "#calculate option price at estimate sigma\n",
        "def option_value(S,K,r,t,sigma):\n",
        "  d1 = (np.log(S/K)+(r+0.5*sigma**2)*t)/(sigma*np.sqrt(t))\n",
        "  d2 = (np.log(S/K)+(r-0.5*sigma**2)*t)/(sigma*np.sqrt(t))\n",
        "  call = (S * norm.cdf(d1,0,1) - K*np.exp(-r*t) * norm.cdf(d2,0,1))\n",
        "  put = (K*np.exp(-r*t) * norm.cdf(-d2,0,1) - S * norm.cdf(-d1,0,1))\n",
        "  return call,put\n",
        "\n",
        "#calculate vega using given parameter\n",
        "def vega(S,K,r,t,sigma):\n",
        "  d1 = (np.log(S/K)+(r+0.5*sigma**2)*t)/(sigma*np.sqrt(t))\n",
        "  vega = S * norm.cdf(d1,0,1) * np.sqrt(t)\n",
        "  return vega\n"
      ]
    },
    {
      "cell_type": "code",
      "source": [
        "#apply Newton's Method\n",
        "def Newton(S,K,t,r,op,type): #type=0,call; type=1,put\n",
        "  size = 10000\n",
        "  est_sigma = .2\n",
        "  for i in range(size):\n",
        "    est_sigma -= (option_value(S,K,r,t,est_sigma)[type] - op) / vega(S,K,r,t,est_sigma)\n",
        "\n",
        "  return est_sigma\n",
        "\n",
        "print('Implied voltality for call option is ',Newton(100,100,1,0.05,5,0),\n",
        "      '\\nImplied voltality for put option is ',Newton(100,100,1,0.05,5,1))"
      ],
      "metadata": {
        "colab": {
          "base_uri": "https://localhost:8080/"
        },
        "id": "5u3yNq63n1tW",
        "outputId": "2f4ee24d-4466-41f6-a2b8-90185fa9a57f"
      },
      "execution_count": 7,
      "outputs": [
        {
          "output_type": "stream",
          "name": "stdout",
          "text": [
            "Implied voltality for call option is  0.035384777344651334 \n",
            "Implied voltality for put option is  0.1846818322014981\n"
          ]
        }
      ]
    },
    {
      "cell_type": "code",
      "source": [
        "#2 Using Bisection Method\n",
        "\n",
        "def Bis(S,K,t,r,op,type): #type=0,call; type=1,put\n",
        "  est_op = 0\n",
        "  upper = 100\n",
        "  lower = 0\n",
        "  est_sigma = (upper + lower)/2\n",
        "\n",
        "  while abs(op - est_op) > 0.0001:\n",
        "    est_op = option_value(S,K,r,t,est_sigma)[type]\n",
        "    if op - est_op> 0:\n",
        "      lower = est_sigma\n",
        "      est_sigma = (est_sigma + upper)/2\n",
        "    else:\n",
        "      upper = est_sigma\n",
        "      est_sigma = (est_sigma + lower)/2\n",
        "\n",
        "  return est_sigma\n",
        "\n",
        "print('Implied voltality for call option is ',Bis(100,100,1,0.05,5,0),\n",
        "      '\\nImplied voltality for put option is ',Bis(100,100,1,0.05,5,1))"
      ],
      "metadata": {
        "colab": {
          "base_uri": "https://localhost:8080/"
        },
        "id": "hCapLplUnyUa",
        "outputId": "41a55001-4403-4bd9-f287-c007a0b40c45"
      },
      "execution_count": 6,
      "outputs": [
        {
          "output_type": "stream",
          "name": "stdout",
          "text": [
            "Implied voltality for call option is  0.03542900085449219 \n",
            "Implied voltality for put option is  0.1846805214881897\n"
          ]
        }
      ]
    },
    {
      "cell_type": "code",
      "source": [
        "#Part 2\n",
        "K = np.linspace(100,150,100)\n",
        "# S0=100 r=5% T=1 Op=5\n",
        "def getimpvol(S,K,t,r,op,type):\n",
        "  imp_vol = np.zeros(len(K))\n",
        "  for i in range(len(K)):\n",
        "    imp_vol[i] = Newton(S,K[i],t,r,op,type)\n",
        "  \n",
        "  return imp_vol\n"
      ],
      "metadata": {
        "id": "JQFjlvmerreF"
      },
      "execution_count": 53,
      "outputs": []
    },
    {
      "cell_type": "code",
      "source": [
        "imp_vols = getimpvol(100,K,1,.05,5,0)"
      ],
      "metadata": {
        "id": "D10iDaEBvpSI"
      },
      "execution_count": 54,
      "outputs": []
    },
    {
      "cell_type": "code",
      "source": [
        "imp_vols,K"
      ],
      "metadata": {
        "colab": {
          "base_uri": "https://localhost:8080/"
        },
        "id": "2Gj64a2p5H3T",
        "outputId": "66359e19-2649-465f-826b-27ed75fef332"
      },
      "execution_count": 55,
      "outputs": [
        {
          "output_type": "execute_result",
          "data": {
            "text/plain": [
              "(array([0.03538478, 0.05416301, 0.06606895, 0.07581098, 0.08436756,\n",
              "        0.09214329, 0.09935185, 0.10612247, 0.11254043, 0.11866557,\n",
              "        0.1245418 , 0.13020256, 0.135674  , 0.14097706, 0.14612881,\n",
              "        0.15114344, 0.15603286, 0.16080722, 0.16547525, 0.17004452,\n",
              "        0.17452167, 0.17891254, 0.18322233, 0.18745568, 0.19161675,\n",
              "        0.1957093 , 0.19973674, 0.20370216, 0.20760841, 0.21145809,\n",
              "        0.21525358, 0.2189971 , 0.22269069, 0.22633625, 0.22993555,\n",
              "        0.23349024, 0.23700185, 0.24047184, 0.24390155, 0.24729227,\n",
              "        0.25064518, 0.25396143, 0.25724209, 0.26048817, 0.26370063,\n",
              "        0.26688039, 0.27002831, 0.27314522, 0.2762319 , 0.27928911,\n",
              "        0.28231756, 0.28531793, 0.28829089, 0.29123706, 0.29415704,\n",
              "        0.29705141, 0.29992072, 0.30276551, 0.30558629, 0.30838355,\n",
              "        0.31115777, 0.3139094 , 0.3166389 , 0.31934667, 0.32203314,\n",
              "        0.32469871, 0.32734375, 0.32996864, 0.33257374, 0.33515941,\n",
              "        0.33772597, 0.34027375, 0.34280308, 0.34531425, 0.34780758,\n",
              "        0.35028335, 0.35274185, 0.35518334, 0.35760809, 0.36001638,\n",
              "        0.36240844, 0.36478452, 0.36714486, 0.36948971, 0.37181927,\n",
              "        0.37413379, 0.37643346, 0.37871851, 0.38098913, 0.38324554,\n",
              "        0.38548792, 0.38771647, 0.38993137, 0.3921328 , 0.39432095,\n",
              "        0.39649599, 0.39865809, 0.40080742, 0.40294414, 0.40506841]),\n",
              " array([100.        , 100.50505051, 101.01010101, 101.51515152,\n",
              "        102.02020202, 102.52525253, 103.03030303, 103.53535354,\n",
              "        104.04040404, 104.54545455, 105.05050505, 105.55555556,\n",
              "        106.06060606, 106.56565657, 107.07070707, 107.57575758,\n",
              "        108.08080808, 108.58585859, 109.09090909, 109.5959596 ,\n",
              "        110.1010101 , 110.60606061, 111.11111111, 111.61616162,\n",
              "        112.12121212, 112.62626263, 113.13131313, 113.63636364,\n",
              "        114.14141414, 114.64646465, 115.15151515, 115.65656566,\n",
              "        116.16161616, 116.66666667, 117.17171717, 117.67676768,\n",
              "        118.18181818, 118.68686869, 119.19191919, 119.6969697 ,\n",
              "        120.2020202 , 120.70707071, 121.21212121, 121.71717172,\n",
              "        122.22222222, 122.72727273, 123.23232323, 123.73737374,\n",
              "        124.24242424, 124.74747475, 125.25252525, 125.75757576,\n",
              "        126.26262626, 126.76767677, 127.27272727, 127.77777778,\n",
              "        128.28282828, 128.78787879, 129.29292929, 129.7979798 ,\n",
              "        130.3030303 , 130.80808081, 131.31313131, 131.81818182,\n",
              "        132.32323232, 132.82828283, 133.33333333, 133.83838384,\n",
              "        134.34343434, 134.84848485, 135.35353535, 135.85858586,\n",
              "        136.36363636, 136.86868687, 137.37373737, 137.87878788,\n",
              "        138.38383838, 138.88888889, 139.39393939, 139.8989899 ,\n",
              "        140.4040404 , 140.90909091, 141.41414141, 141.91919192,\n",
              "        142.42424242, 142.92929293, 143.43434343, 143.93939394,\n",
              "        144.44444444, 144.94949495, 145.45454545, 145.95959596,\n",
              "        146.46464646, 146.96969697, 147.47474747, 147.97979798,\n",
              "        148.48484848, 148.98989899, 149.49494949, 150.        ]))"
            ]
          },
          "metadata": {},
          "execution_count": 55
        }
      ]
    },
    {
      "cell_type": "code",
      "source": [
        "plt.figure(figsize = (15,10))\n",
        "plt.plot(K, imp_vols)\n",
        "\n",
        "plt.xlabel(\"Strike\")\n",
        "plt.ylabel(\"Implied Volatility\")\n",
        "plt.show()\n",
        "    "
      ],
      "metadata": {
        "colab": {
          "base_uri": "https://localhost:8080/",
          "height": 606
        },
        "id": "THMc-uZ7sdTW",
        "outputId": "e0f50cf1-2743-47e1-8e83-716418381d40"
      },
      "execution_count": 59,
      "outputs": [
        {
          "output_type": "display_data",
          "data": {
            "image/png": "[encoded data removed]",
            "text/plain": [
              "<Figure size 1080x720 with 1 Axes>"
            ]
          },
          "metadata": {
            "needs_background": "light"
          }
        }
      ]
    },
    {
      "cell_type": "code",
      "source": [
        "#vol = a + b * (rho * (K-m) + np.sqrt((K-m)**2+sig**2))"
      ],
      "metadata": {
        "id": "rkfPt6LJ5Udj"
      },
      "execution_count": null,
      "outputs": []
    },
    {
      "cell_type": "code",
      "source": [
        "!pip install yfinance"
      ],
      "metadata": {
        "colab": {
          "base_uri": "https://localhost:8080/"
        },
        "id": "cKoKDUqQx0ZF",
        "outputId": "b28279a0-fc49-43ef-f71a-738ce160bc40"
      },
      "execution_count": 1,
      "outputs": [
        {
          "output_type": "stream",
          "name": "stdout",
          "text": [
            "Requirement already satisfied: yfinance in /usr/local/lib/python3.7/dist-packages (0.1.70)\n",
            "Requirement already satisfied: pandas>=0.24.0 in /usr/local/lib/python3.7/dist-packages (from yfinance) (1.3.5)\n",
            "Requirement already satisfied: requests>=2.26 in /usr/local/lib/python3.7/dist-packages (from yfinance) (2.27.1)\n",
            "Requirement already satisfied: multitasking>=0.0.7 in /usr/local/lib/python3.7/dist-packages (from yfinance) (0.0.10)\n",
            "Requirement already satisfied: numpy>=1.15 in /usr/local/lib/python3.7/dist-packages (from yfinance) (1.21.5)\n",
            "Requirement already satisfied: lxml>=4.5.1 in /usr/local/lib/python3.7/dist-packages (from yfinance) (4.8.0)\n",
            "Requirement already satisfied: pytz>=2017.3 in /usr/local/lib/python3.7/dist-packages (from pandas>=0.24.0->yfinance) (2018.9)\n",
            "Requirement already satisfied: python-dateutil>=2.7.3 in /usr/local/lib/python3.7/dist-packages (from pandas>=0.24.0->yfinance) (2.8.2)\n",
            "Requirement already satisfied: six>=1.5 in /usr/local/lib/python3.7/dist-packages (from python-dateutil>=2.7.3->pandas>=0.24.0->yfinance) (1.15.0)\n",
            "Requirement already satisfied: certifi>=2017.4.17 in /usr/local/lib/python3.7/dist-packages (from requests>=2.26->yfinance) (2021.10.8)\n",
            "Requirement already satisfied: charset-normalizer~=2.0.0 in /usr/local/lib/python3.7/dist-packages (from requests>=2.26->yfinance) (2.0.12)\n",
            "Requirement already satisfied: urllib3<1.27,>=1.21.1 in /usr/local/lib/python3.7/dist-packages (from requests>=2.26->yfinance) (1.24.3)\n",
            "Requirement already satisfied: idna<4,>=2.5 in /usr/local/lib/python3.7/dist-packages (from requests>=2.26->yfinance) (2.10)\n"
          ]
        }
      ]
    },
    {
      "cell_type": "code",
      "source": [
        "import yfinance as yf"
      ],
      "metadata": {
        "id": "uW-ya7IuyD2t"
      },
      "execution_count": 2,
      "outputs": []
    },
    {
      "cell_type": "code",
      "source": [
        "#part 2 Colab with Hong Hu\n",
        "\n",
        "aapl = yf.Ticker(\"AAPL\")\n",
        "opt = aapl.option_chain('2022-06-17')\n",
        "call = opt.calls\n",
        "\n",
        "def get_vols_skew(ticker, date):\n",
        "    underly = yf.Ticker(ticker)\n",
        "    opt = underly.option_chain(date)\n",
        "    call_data = opt.calls\n",
        "    put_data = opt.puts\n",
        "    effective_vol_call = []\n",
        "    strike_call = []\n",
        "    effective_vol_put = []\n",
        "    strike_put = []\n",
        "    for i in call_data.iterrows():\n",
        "        if i[1][11] == True and i[1][10] > 0.00005 and i[1][10] < 1.5:\n",
        "\n",
        "            effective_vol_call.append(i[1][10])\n",
        "            strike_call.append(i[1][2])\n",
        "\n",
        "    for i in put_data.iterrows():\n",
        "        if i[1][11] == True and i[1][10] > 0.00005 and i[1][10] < 1.5:\n",
        "\n",
        "            effective_vol_put.append(i[1][10])\n",
        "            strike_put.append(i[1][2])\n",
        "    current_price = (np.min(strike_put) + np.max(strike_call))/2\n",
        "    effective_vol = effective_vol_put + effective_vol_call\n",
        "    strike = strike_put + strike_call\n",
        "    return effective_vol, strike, current_price\n",
        "\n",
        "def sviCurve (x, a, b, rho, m,sigma):\n",
        "\n",
        "    result = a+b*(rho*(x-m)+np.sqrt((x-m)**2 + sigma**2))\n",
        "    std = np.sqrt(result)\n",
        "    return std\n",
        "\n",
        "def sviFit (impliedvol,strikes):\n",
        "    o = scipy.optimize.curve_fit(sviCurve, strikes, impliedvol, maxfev= 1000000)\n",
        "    return o\n",
        "\n",
        "def runfunc_2(ticker,date):\n",
        "    vol = get_vols_skew(ticker, date)\n",
        "    underlyprice = vol[2]\n",
        "    param = sviFit(vol[0], vol[1])[0]\n",
        "    print(\"a is \", param[0], \", b is \", param[1], \", rho is \" , param[2], \", m is \",param[3], \", sigma is \",param[4])\n",
        "\n",
        "\n"
      ],
      "metadata": {
        "id": "qv89Vwd1YGlF"
      },
      "execution_count": 51,
      "outputs": []
    },
    {
      "cell_type": "code",
      "source": [
        "runfunc_2(\"AAPL\", \"2022-06-17\")"
      ],
      "metadata": {
        "colab": {
          "base_uri": "https://localhost:8080/",
          "height": 356
        },
        "id": "icJMc7S6ya9n",
        "outputId": "e261b8cd-caea-4e7c-aeca-0174ca8fb942"
      },
      "execution_count": 50,
      "outputs": [
        {
          "output_type": "error",
          "ename": "ValueError",
          "evalue": "ignored",
          "traceback": [
            "\u001b[0;31m---------------------------------------------------------------------------\u001b[0m",
            "\u001b[0;31mValueError\u001b[0m                                Traceback (most recent call last)",
            "\u001b[0;32m<ipython-input-50-46a986f6812d>\u001b[0m in \u001b[0;36m<module>\u001b[0;34m()\u001b[0m\n\u001b[0;32m----> 1\u001b[0;31m \u001b[0mrunfunc_2\u001b[0m\u001b[0;34m(\u001b[0m\u001b[0;34m\"AAPL\"\u001b[0m\u001b[0;34m,\u001b[0m \u001b[0;34m\"2022-06-17\"\u001b[0m\u001b[0;34m)\u001b[0m\u001b[0;34m\u001b[0m\u001b[0;34m\u001b[0m\u001b[0m\n\u001b[0m",
            "\u001b[0;32m<ipython-input-49-058b2ac984e3>\u001b[0m in \u001b[0;36mrunfunc_2\u001b[0;34m(ticker, date)\u001b[0m\n\u001b[1;32m     40\u001b[0m \u001b[0;34m\u001b[0m\u001b[0m\n\u001b[1;32m     41\u001b[0m \u001b[0;32mdef\u001b[0m \u001b[0mrunfunc_2\u001b[0m\u001b[0;34m(\u001b[0m\u001b[0mticker\u001b[0m\u001b[0;34m,\u001b[0m\u001b[0mdate\u001b[0m\u001b[0;34m)\u001b[0m\u001b[0;34m:\u001b[0m\u001b[0;34m\u001b[0m\u001b[0;34m\u001b[0m\u001b[0m\n\u001b[0;32m---> 42\u001b[0;31m     \u001b[0mvol\u001b[0m \u001b[0;34m=\u001b[0m \u001b[0mget_vols_skew\u001b[0m\u001b[0;34m(\u001b[0m\u001b[0mticker\u001b[0m\u001b[0;34m,\u001b[0m \u001b[0mdate\u001b[0m\u001b[0;34m)\u001b[0m\u001b[0;34m\u001b[0m\u001b[0;34m\u001b[0m\u001b[0m\n\u001b[0m\u001b[1;32m     43\u001b[0m     \u001b[0munderlyprice\u001b[0m \u001b[0;34m=\u001b[0m \u001b[0mvol\u001b[0m\u001b[0;34m[\u001b[0m\u001b[0;36m2\u001b[0m\u001b[0;34m]\u001b[0m\u001b[0;34m\u001b[0m\u001b[0;34m\u001b[0m\u001b[0m\n\u001b[1;32m     44\u001b[0m     \u001b[0mparam\u001b[0m \u001b[0;34m=\u001b[0m \u001b[0msviFit\u001b[0m\u001b[0;34m(\u001b[0m\u001b[0mvol\u001b[0m\u001b[0;34m[\u001b[0m\u001b[0;36m0\u001b[0m\u001b[0;34m]\u001b[0m\u001b[0;34m,\u001b[0m \u001b[0mvol\u001b[0m\u001b[0;34m[\u001b[0m\u001b[0;36m1\u001b[0m\u001b[0;34m]\u001b[0m\u001b[0;34m)\u001b[0m\u001b[0;34m[\u001b[0m\u001b[0;36m0\u001b[0m\u001b[0;34m]\u001b[0m\u001b[0;34m\u001b[0m\u001b[0;34m\u001b[0m\u001b[0m\n",
            "\u001b[0;32m<ipython-input-49-058b2ac984e3>\u001b[0m in \u001b[0;36mget_vols_skew\u001b[0;34m(ticker, date)\u001b[0m\n\u001b[1;32m     24\u001b[0m             \u001b[0meffective_vol_put\u001b[0m\u001b[0;34m.\u001b[0m\u001b[0mappend\u001b[0m\u001b[0;34m(\u001b[0m\u001b[0mi\u001b[0m\u001b[0;34m[\u001b[0m\u001b[0;36m1\u001b[0m\u001b[0;34m]\u001b[0m\u001b[0;34m[\u001b[0m\u001b[0;36m10\u001b[0m\u001b[0;34m]\u001b[0m\u001b[0;34m)\u001b[0m\u001b[0;34m\u001b[0m\u001b[0;34m\u001b[0m\u001b[0m\n\u001b[1;32m     25\u001b[0m             \u001b[0mstrike_put\u001b[0m\u001b[0;34m.\u001b[0m\u001b[0mappend\u001b[0m\u001b[0;34m(\u001b[0m\u001b[0mi\u001b[0m\u001b[0;34m[\u001b[0m\u001b[0;36m1\u001b[0m\u001b[0;34m]\u001b[0m\u001b[0;34m[\u001b[0m\u001b[0;36m2\u001b[0m\u001b[0;34m]\u001b[0m\u001b[0;34m)\u001b[0m\u001b[0;34m\u001b[0m\u001b[0;34m\u001b[0m\u001b[0m\n\u001b[0;32m---> 26\u001b[0;31m     \u001b[0mcurrent_price\u001b[0m \u001b[0;34m=\u001b[0m \u001b[0;34m(\u001b[0m\u001b[0mnp\u001b[0m\u001b[0;34m.\u001b[0m\u001b[0mmin\u001b[0m\u001b[0;34m(\u001b[0m\u001b[0mstrike_put\u001b[0m\u001b[0;34m)\u001b[0m \u001b[0;34m+\u001b[0m \u001b[0mnp\u001b[0m\u001b[0;34m.\u001b[0m\u001b[0mmax\u001b[0m\u001b[0;34m(\u001b[0m\u001b[0mstrike_call\u001b[0m\u001b[0;34m)\u001b[0m\u001b[0;34m)\u001b[0m\u001b[0;34m/\u001b[0m\u001b[0;36m2\u001b[0m\u001b[0;34m\u001b[0m\u001b[0;34m\u001b[0m\u001b[0m\n\u001b[0m\u001b[1;32m     27\u001b[0m     \u001b[0meffective_vol\u001b[0m \u001b[0;34m=\u001b[0m \u001b[0meffective_vol_put\u001b[0m \u001b[0;34m+\u001b[0m \u001b[0meffective_vol_call\u001b[0m\u001b[0;34m\u001b[0m\u001b[0;34m\u001b[0m\u001b[0m\n\u001b[1;32m     28\u001b[0m     \u001b[0mstrike\u001b[0m \u001b[0;34m=\u001b[0m \u001b[0mstrike_put\u001b[0m \u001b[0;34m+\u001b[0m \u001b[0mstrike_call\u001b[0m\u001b[0;34m\u001b[0m\u001b[0;34m\u001b[0m\u001b[0m\n",
            "\u001b[0;32m<__array_function__ internals>\u001b[0m in \u001b[0;36mamin\u001b[0;34m(*args, **kwargs)\u001b[0m\n",
            "\u001b[0;32m/usr/local/lib/python3.7/dist-packages/numpy/core/fromnumeric.py\u001b[0m in \u001b[0;36mamin\u001b[0;34m(a, axis, out, keepdims, initial, where)\u001b[0m\n\u001b[1;32m   2878\u001b[0m     \"\"\"\n\u001b[1;32m   2879\u001b[0m     return _wrapreduction(a, np.minimum, 'min', axis, None, out,\n\u001b[0;32m-> 2880\u001b[0;31m                           keepdims=keepdims, initial=initial, where=where)\n\u001b[0m\u001b[1;32m   2881\u001b[0m \u001b[0;34m\u001b[0m\u001b[0m\n\u001b[1;32m   2882\u001b[0m \u001b[0;34m\u001b[0m\u001b[0m\n",
            "\u001b[0;32m/usr/local/lib/python3.7/dist-packages/numpy/core/fromnumeric.py\u001b[0m in \u001b[0;36m_wrapreduction\u001b[0;34m(obj, ufunc, method, axis, dtype, out, **kwargs)\u001b[0m\n\u001b[1;32m     84\u001b[0m                 \u001b[0;32mreturn\u001b[0m \u001b[0mreduction\u001b[0m\u001b[0;34m(\u001b[0m\u001b[0maxis\u001b[0m\u001b[0;34m=\u001b[0m\u001b[0maxis\u001b[0m\u001b[0;34m,\u001b[0m \u001b[0mout\u001b[0m\u001b[0;34m=\u001b[0m\u001b[0mout\u001b[0m\u001b[0;34m,\u001b[0m \u001b[0;34m**\u001b[0m\u001b[0mpasskwargs\u001b[0m\u001b[0;34m)\u001b[0m\u001b[0;34m\u001b[0m\u001b[0;34m\u001b[0m\u001b[0m\n\u001b[1;32m     85\u001b[0m \u001b[0;34m\u001b[0m\u001b[0m\n\u001b[0;32m---> 86\u001b[0;31m     \u001b[0;32mreturn\u001b[0m \u001b[0mufunc\u001b[0m\u001b[0;34m.\u001b[0m\u001b[0mreduce\u001b[0m\u001b[0;34m(\u001b[0m\u001b[0mobj\u001b[0m\u001b[0;34m,\u001b[0m \u001b[0maxis\u001b[0m\u001b[0;34m,\u001b[0m \u001b[0mdtype\u001b[0m\u001b[0;34m,\u001b[0m \u001b[0mout\u001b[0m\u001b[0;34m,\u001b[0m \u001b[0;34m**\u001b[0m\u001b[0mpasskwargs\u001b[0m\u001b[0;34m)\u001b[0m\u001b[0;34m\u001b[0m\u001b[0;34m\u001b[0m\u001b[0m\n\u001b[0m\u001b[1;32m     87\u001b[0m \u001b[0;34m\u001b[0m\u001b[0m\n\u001b[1;32m     88\u001b[0m \u001b[0;34m\u001b[0m\u001b[0m\n",
            "\u001b[0;31mValueError\u001b[0m: zero-size array to reduction operation minimum which has no identity"
          ]
        }
      ]
    }
  ]
}