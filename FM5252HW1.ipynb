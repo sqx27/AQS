{
  "nbformat": 4,
  "nbformat_minor": 0,
  "metadata": {
    "colab": {
      "name": "Untitled3.ipynb",
      "provenance": [],
      "authorship_tag": "ABX9TyOX1TNNEB4xoH5E0um2IzeG",
      "include_colab_link": true
    },
    "kernelspec": {
      "name": "python3",
      "display_name": "Python 3"
    },
    "language_info": {
      "name": "python"
    }
  },
  "cells": [
    {
      "cell_type": "markdown",
      "metadata": {
        "id": "view-in-github",
        "colab_type": "text"
      },
      "source": [
        "<a href=\"https://colab.research.google.com/github/sqx27/AQS/blob/main/FM5252HW1.ipynb\" target=\"_parent\"><img src=\"https://colab.research.google.com/assets/colab-badge.svg\" alt=\"Open In Colab\"/></a>"
      ]
    },
    {
      "cell_type": "code",
      "execution_count": 14,
      "metadata": {
        "colab": {
          "base_uri": "https://localhost:8080/"
        },
        "id": "VqvggCVgRhHW",
        "outputId": "0eaf2ed6-474f-419b-9686-830ef62ef600"
      },
      "outputs": [
        {
          "output_type": "stream",
          "name": "stdout",
          "text": [
            "Call price is  10.450583572185565\n",
            "Put price is  5.573526022256971\n",
            "Call Delta is  0.6368306511756191\n",
            "Put Delta is  -0.3631693488243809\n",
            "Gamma is  0.018762017345846895\n",
            "Vega is  37.52403469169379\n",
            "Call Theta is  -6.414027546438196\n",
            "Put Theta is  -1.6578804239346256\n",
            "Call Rho is  53.232481545376345\n",
            "Put Rho is  -41.89046090469506\n"
          ]
        }
      ],
      "source": [
        "# Alex Song FM5252 HW1\n",
        "\n",
        "\n",
        "import numpy as np\n",
        "from scipy.stats import norm\n",
        "\n",
        "d1 = lambda S,K,r,sigma,dt: (np.log(S/K) + (r+ 0.5*sigma**2)*dt)/(sigma*np.sqrt(dt))\n",
        "d2 = lambda S,K,r,sigma,dt: d1(S,K,r,sigma,dt) - sigma*np.sqrt(dt)\n",
        "call_price = lambda S,K,r,sigma,dt: S*norm.cdf(d1(S,K,r,sigma,dt)) - np.exp(-r*dt)*K* norm.cdf(d2(S,K,r,sigma,dt))\n",
        "put_price = lambda S,K,r,sigma,dt: K*np.exp(-r*dt)*norm.cdf(-d2(S,K,r,sigma,dt)) - S*norm.cdf(-d1(S,K,r,sigma,dt))\n",
        "call_delta = lambda S,K,r,sigma,dt: norm.cdf(d1(S,K,r,sigma,dt))\n",
        "put_delta = lambda S,K,r,sigma,dt: call_delta(S,K,r,sigma,dt) - 1\n",
        "gamma = lambda S,K,r,sigma,dt: norm.pdf(d1(S,K,r,sigma,dt))/(S*sigma*np.sqrt(dt))\n",
        "vega = lambda S,K,r,sigma,dt: S*dt*norm.pdf(d1(S,K,r,sigma,dt))\n",
        "call_theta = lambda S,K,r,sigma,dt: -(S*sigma*norm.pdf(d1(S,K,r,sigma,dt)))/(2*np.sqrt(dt)) - r*K*np.exp(-r*dt)*norm.cdf(d2(S,K,r,sigma,dt))\n",
        "put_theta = lambda S,K,r,sigma,dt: -(S*sigma*norm.pdf(d1(S,K,r,sigma,dt)))/(2*np.sqrt(dt)) + r*K*np.exp(-r*dt)*norm.cdf(-d2(S,K,r,sigma,dt))\n",
        "call_rho = lambda S,K,r,sigma,dt: K*dt*np.exp(-r*dt)*norm.cdf(d2(S,K,r,sigma,dt))\n",
        "put_rho = lambda S,K,r,sigma,dt: -K*dt*np.exp(-r*dt)*norm.cdf(-d2(S,K,r,sigma,dt))\n",
        "\n",
        "def greeks(S,K,r,sigma,dt):\n",
        "  print('Call price is ',call_price(S,K,r,sigma,dt))\n",
        "  print('Put price is ',put_price(S,K,r,sigma,dt))\n",
        "  print('Call Delta is ',call_delta(S,K,r,sigma,dt))\n",
        "  print('Put Delta is ',put_delta(S,K,r,sigma,dt))\n",
        "  print('Gamma is ',gamma(S,K,r,sigma,dt))\n",
        "  print('Vega is ',vega(S,K,r,sigma,dt))\n",
        "  print('Call Theta is ',call_theta(S,K,r,sigma,dt))\n",
        "  print('Put Theta is ',put_theta(S,K,r,sigma,dt))\n",
        "  print('Call Rho is ',call_rho(S,K,r,sigma,dt))\n",
        "  print('Put Rho is ',put_rho(S,K,r,sigma,dt))\n",
        "\n",
        "\n",
        "greeks(100,100,.05,.2,1)"
      ]
    }
  ]
}